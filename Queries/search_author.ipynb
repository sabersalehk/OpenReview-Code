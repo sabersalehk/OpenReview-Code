{
 "cells": [
  {
   "cell_type": "markdown",
   "id": "educational-priest",
   "metadata": {},
   "source": [
    "# Search for an (author ,submissions)"
   ]
  },
  {
   "cell_type": "markdown",
   "id": "dca3efb5",
   "metadata": {},
   "source": [
    "* Search for the profile of an author"
   ]
  },
  {
   "cell_type": "code",
   "execution_count": null,
   "id": "e53705c0",
   "metadata": {},
   "outputs": [],
   "source": [
    "import openreview\n",
    "import pandas as pd\n",
    "import numpy as np\n",
    "\n",
    "\n",
    "venue_id = 'auai.org/UAI/2024/Conference'\n",
    "\n",
    "cred_file = open('cred_info.txt', 'r')\n",
    "client = openreview.api.OpenReviewClient(\n",
    "    baseurl='https://api2.openreview.net',\n",
    "    username=cred_file.readline().strip(),\n",
    "    password=cred_file.readline().strip()\n",
    ")\n",
    "\n",
    "cred_file.close()\n",
    "\n",
    "profile = client.get_profile('name@university.edu')\n",
    "print(profile)\n",
    "\n"
   ]
  },
  {
   "cell_type": "markdown",
   "id": "afab172e",
   "metadata": {},
   "source": [
    "* Get the list of submissions"
   ]
  },
  {
   "cell_type": "code",
   "execution_count": null,
   "id": "a9b8606f",
   "metadata": {},
   "outputs": [],
   "source": [
    "profile_notes = client.get_notes(content={'authorids': '~Profile_name'})\n",
    "print(profile_notes)\n"
   ]
  }
 ],
 "metadata": {
  "kernelspec": {
   "display_name": "Python 3 (ipykernel)",
   "language": "python",
   "name": "python3"
  },
  "language_info": {
   "codemirror_mode": {
    "name": "ipython",
    "version": 3
   },
   "file_extension": ".py",
   "mimetype": "text/x-python",
   "name": "python",
   "nbconvert_exporter": "python",
   "pygments_lexer": "ipython3",
   "version": "3.11.5"
  }
 },
 "nbformat": 4,
 "nbformat_minor": 5
}



